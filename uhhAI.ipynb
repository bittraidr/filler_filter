{
 "cells": [
  {
   "cell_type": "code",
   "execution_count": null,
   "id": "ad125b16-6e89-40de-98e8-671bd4a9c9e4",
   "metadata": {
    "tags": []
   },
   "outputs": [
    {
     "name": "stdout",
     "output_type": "stream",
     "text": [
      "MoviePy - Writing audio in audio.wav\n"
     ]
    },
    {
     "name": "stderr",
     "output_type": "stream",
     "text": [
      "                                                                                                                       \r"
     ]
    },
    {
     "name": "stdout",
     "output_type": "stream",
     "text": [
      "MoviePy - Done.\n",
      "Model loaded successfully.\n",
      "[18770, 17990, -28026, 117, 16727, 17750, 28006, 8308, 16, 0]\n",
      "0.0755152020121398\n"
     ]
    }
   ],
   "source": [
    "# import moviepy.editor as mp\n",
    "# from pydub import AudioSegment\n",
    "# from pydub.silence import split_on_silence\n",
    "# from vosk import Model, KaldiRecognizer, SetLogLevel\n",
    "# import numpy as np\n",
    "\n",
    "# # Set log level to suppress Vosk log messages\n",
    "# SetLogLevel(0)\n",
    "\n",
    "# # Step 1: Extract audio from video\n",
    "# video = mp.VideoFileClip(\"um.mp4\")\n",
    "# audio = video.audio\n",
    "\n",
    "# # Step 2: Convert audio to WAV for speech recognition\n",
    "# audio.export(\"audio.wav\", format=\"wav\", codec=\"pcm_s16le\")\n",
    "\n",
    "# # Step 3: Speech recognition using Vosk\n",
    "# model_path = \"../vosk-model-en-us-0.22\"\n",
    "# try:\n",
    "#     model = Model(model_path)\n",
    "#     print(\"Model loaded successfully.\")\n",
    "# except Exception as e:\n",
    "#     print(f\"Error loading model: {e}\")\n",
    "#     # Handle the error or exit the program\n",
    "\n",
    "# # Step 4: Process audio chunks\n",
    "# audio_data = AudioSegment.from_wav(\"audio.wav\")\n",
    "# chunks = split_on_silence(audio_data, silence_thresh=-40)\n",
    "# recognized_text = \"\"\n",
    "\n",
    "# for chunk in chunks:\n",
    "#     # Convert audio data to numpy array of 16-bit signed integers\n",
    "#     audio_np = np.array(chunk.get_array_of_samples(), dtype=np.int16)\n",
    "#     recognizer = KaldiRecognizer(model, audio_np)\n",
    "#     recognized_text += recognizer.FinalResult()\n",
    "\n",
    "# # Step 5: Identify \"um\" occurrences and cut corresponding video segments\n",
    "# um_segments = [(start, end) for start, end in zip(chunks[:-1], chunks[1:]) if \"um\" in recognized_text[start:end]]\n",
    "\n",
    "# edited_segments = []\n",
    "# for start, end in um_segments:\n",
    "#     edited_segments.append(video.subclip(start / 1000, end / 1000))  # Convert milliseconds to seconds\n",
    "\n",
    "# final_video = mp.concatenate_videoclips(edited_segments)\n",
    "\n",
    "# # Step 6: Export final video\n",
    "# final_video.write_videofile(\"umRemove.mp4\", codec=\"libx264\", audio_codec=\"aac\")\n"
   ]
  },
  {
   "cell_type": "code",
   "execution_count": 9,
   "id": "d867d93a-7af5-4088-adbb-f6eb5bea7692",
   "metadata": {},
   "outputs": [
    {
     "name": "stdout",
     "output_type": "stream",
     "text": [
      "MoviePy - Writing audio in audio.wav\n"
     ]
    },
    {
     "name": "stderr",
     "output_type": "stream",
     "text": [
      "                                                                                                                       \r"
     ]
    },
    {
     "name": "stdout",
     "output_type": "stream",
     "text": [
      "MoviePy - Done.\n"
     ]
    },
    {
     "ename": "TypeError",
     "evalue": "slice indices must be integers or None or have an __index__ method",
     "output_type": "error",
     "traceback": [
      "\u001b[1;31m---------------------------------------------------------------------------\u001b[0m",
      "\u001b[1;31mTypeError\u001b[0m                                 Traceback (most recent call last)",
      "Cell \u001b[1;32mIn[9], line 43\u001b[0m\n\u001b[0;32m     40\u001b[0m     recognized_text \u001b[38;5;241m+\u001b[39m\u001b[38;5;241m=\u001b[39m response\u001b[38;5;241m.\u001b[39mjson()\u001b[38;5;241m.\u001b[39mget(\u001b[38;5;124m\"\u001b[39m\u001b[38;5;124m_text\u001b[39m\u001b[38;5;124m\"\u001b[39m, \u001b[38;5;124m\"\u001b[39m\u001b[38;5;124m\"\u001b[39m)\n\u001b[0;32m     42\u001b[0m \u001b[38;5;66;03m# Step 4: Identify \"um\" occurrences and cut corresponding video segments\u001b[39;00m\n\u001b[1;32m---> 43\u001b[0m um_segments \u001b[38;5;241m=\u001b[39m [(start, end) \u001b[38;5;28;01mfor\u001b[39;00m start, end \u001b[38;5;129;01min\u001b[39;00m \u001b[38;5;28mzip\u001b[39m(chunks[:\u001b[38;5;241m-\u001b[39m\u001b[38;5;241m1\u001b[39m], chunks[\u001b[38;5;241m1\u001b[39m:]) \u001b[38;5;28;01mif\u001b[39;00m \u001b[38;5;124m\"\u001b[39m\u001b[38;5;124mum\u001b[39m\u001b[38;5;124m\"\u001b[39m \u001b[38;5;129;01min\u001b[39;00m recognized_text[start:end]]\n\u001b[0;32m     45\u001b[0m edited_segments \u001b[38;5;241m=\u001b[39m []\n\u001b[0;32m     46\u001b[0m \u001b[38;5;28;01mfor\u001b[39;00m start, end \u001b[38;5;129;01min\u001b[39;00m um_segments:\n",
      "Cell \u001b[1;32mIn[9], line 43\u001b[0m, in \u001b[0;36m<listcomp>\u001b[1;34m(.0)\u001b[0m\n\u001b[0;32m     40\u001b[0m     recognized_text \u001b[38;5;241m+\u001b[39m\u001b[38;5;241m=\u001b[39m response\u001b[38;5;241m.\u001b[39mjson()\u001b[38;5;241m.\u001b[39mget(\u001b[38;5;124m\"\u001b[39m\u001b[38;5;124m_text\u001b[39m\u001b[38;5;124m\"\u001b[39m, \u001b[38;5;124m\"\u001b[39m\u001b[38;5;124m\"\u001b[39m)\n\u001b[0;32m     42\u001b[0m \u001b[38;5;66;03m# Step 4: Identify \"um\" occurrences and cut corresponding video segments\u001b[39;00m\n\u001b[1;32m---> 43\u001b[0m um_segments \u001b[38;5;241m=\u001b[39m [(start, end) \u001b[38;5;28;01mfor\u001b[39;00m start, end \u001b[38;5;129;01min\u001b[39;00m \u001b[38;5;28mzip\u001b[39m(chunks[:\u001b[38;5;241m-\u001b[39m\u001b[38;5;241m1\u001b[39m], chunks[\u001b[38;5;241m1\u001b[39m:]) \u001b[38;5;28;01mif\u001b[39;00m \u001b[38;5;124m\"\u001b[39m\u001b[38;5;124mum\u001b[39m\u001b[38;5;124m\"\u001b[39m \u001b[38;5;129;01min\u001b[39;00m \u001b[43mrecognized_text\u001b[49m\u001b[43m[\u001b[49m\u001b[43mstart\u001b[49m\u001b[43m:\u001b[49m\u001b[43mend\u001b[49m\u001b[43m]\u001b[49m]\n\u001b[0;32m     45\u001b[0m edited_segments \u001b[38;5;241m=\u001b[39m []\n\u001b[0;32m     46\u001b[0m \u001b[38;5;28;01mfor\u001b[39;00m start, end \u001b[38;5;129;01min\u001b[39;00m um_segments:\n",
      "\u001b[1;31mTypeError\u001b[0m: slice indices must be integers or None or have an __index__ method"
     ]
    }
   ],
   "source": [
    "import moviepy.editor as mp\n",
    "from pydub import AudioSegment\n",
    "from pydub.silence import split_on_silence\n",
    "import wit\n",
    "import requests\n",
    "\n",
    "# Set up Wit.ai\n",
    "access_token = \"G5VWND33DLPK23JLTMI5K2H25EYB747W\"\n",
    "\n",
    "wit.access_token = access_token\n",
    "\n",
    "# # Set up MoviePy\n",
    "# SetLogLevel(0)\n",
    "\n",
    "# Step 1: Extract audio from video\n",
    "video = mp.VideoFileClip(\"um.mp4\")\n",
    "audio = video.audio\n",
    "\n",
    "# Step 2: Convert audio to WAV for speech recognition\n",
    "audio.write_audiofile(\"audio.wav\", codec=\"pcm_s16le\")\n",
    "\n",
    "# Step 3: Process audio chunks\n",
    "audio_data = AudioSegment.from_wav(\"audio.wav\")\n",
    "chunks = split_on_silence(audio_data, silence_thresh=-40)\n",
    "recognized_text = \"\"\n",
    "\n",
    "for chunk in chunks:\n",
    "    # Convert audio data to numpy array of 16-bit signed integers\n",
    "    audio_np = chunk.get_array_of_samples()\n",
    "\n",
    "    # Upload the audio to Wit.ai for recognition\n",
    "    wit_url = \"https://api.wit.ai/speech\"\n",
    "    headers = {\n",
    "        \"Authorization\": f\"Bearer {access_token}\",\n",
    "        \"Content-Type\": \"audio/wav\",\n",
    "    }\n",
    "    response = requests.post(wit_url, headers=headers, data=chunk.raw_data)\n",
    "\n",
    "    # Extract recognized text from the response\n",
    "    recognized_text += response.json().get(\"_text\", \"\")\n",
    "\n",
    "# Step 4: Identify \"um\" occurrences and cut corresponding video segments\n",
    "um_segments = [(start, end) for start, end in zip(chunks[:-1], chunks[1:]) if \"um\" in recognized_text[start:end]]\n",
    "\n",
    "edited_segments = []\n",
    "for start, end in um_segments:\n",
    "    edited_segments.append(video.subclip(start / 1000, end / 1000))  # Convert milliseconds to seconds\n",
    "\n",
    "final_video = mp.concatenate_videoclips(edited_segments)\n",
    "\n",
    "# Step 5: Export final video\n",
    "final_video.write_videofile(\"umRemove.mp4\", codec=\"libx264\", audio_codec=\"aac\")\n",
    "\n",
    "# Clean up Wit.ai\n",
    "wit.close()\n"
   ]
  },
  {
   "cell_type": "code",
   "execution_count": null,
   "id": "a9defe46-5383-45f4-824b-391b414a204b",
   "metadata": {},
   "outputs": [],
   "source": [
    "# from ibm_watson import SpeechToTextV1\n",
    "# from ibm_cloud_sdk_core.authenticators import IAMAuthenticator\n",
    "\n",
    "# authenticator = IAMAuthenticator(\"YOUR_API_KEY\")\n",
    "# speech_to_text = SpeechToTextV1(authenticator=authenticator)\n",
    "\n",
    "# audio_file = \"path/to/audio/file.wav\"\n",
    "\n",
    "# with open(audio_file, \"rb\") as audio_file:\n",
    "#     result = speech_to_text.recognize(audio=audio_file, content_type=\"audio/wav\")\n",
    "#     print(\"Transcript: {}\".format(result.result[\"results\"][0][\"alternatives\"][0][\"transcript\"]))\n"
   ]
  }
 ],
 "metadata": {
  "kernelspec": {
   "display_name": "Python 3 (ipykernel)",
   "language": "python",
   "name": "python3"
  },
  "language_info": {
   "codemirror_mode": {
    "name": "ipython",
    "version": 3
   },
   "file_extension": ".py",
   "mimetype": "text/x-python",
   "name": "python",
   "nbconvert_exporter": "python",
   "pygments_lexer": "ipython3",
   "version": "3.9.17"
  }
 },
 "nbformat": 4,
 "nbformat_minor": 5
}
