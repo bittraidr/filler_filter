{
 "cells": [
  {
   "cell_type": "code",
   "execution_count": 12,
   "id": "ad125b16-6e89-40de-98e8-671bd4a9c9e4",
   "metadata": {
    "tags": []
   },
   "outputs": [
    {
     "name": "stderr",
     "output_type": "stream",
     "text": [
      "Exception ignored in: <function KaldiRecognizer.__del__ at 0x000001A185B06E50>\n",
      "Traceback (most recent call last):\n",
      "  File \"C:\\Users\\Name\\anaconda3\\envs\\newdev\\lib\\site-packages\\vosk\\__init__.py\", line 161, in __del__\n",
      "AttributeError: 'KaldiRecognizer' object has no attribute '_handle'\n"
     ]
    },
    {
     "name": "stdout",
     "output_type": "stream",
     "text": [
      "MoviePy - Writing audio in audio.wav\n"
     ]
    },
    {
     "name": "stderr",
     "output_type": "stream",
     "text": [
      "                                                                                                                       \r"
     ]
    },
    {
     "name": "stdout",
     "output_type": "stream",
     "text": [
      "MoviePy - Done.\n",
      "Model loaded successfully.\n"
     ]
    },
    {
     "name": "stderr",
     "output_type": "stream",
     "text": [
      "IOPub data rate exceeded.\n",
      "The Jupyter server will temporarily stop sending output\n",
      "to the client in order to avoid crashing it.\n",
      "To change this limit, set the config variable\n",
      "`--ServerApp.iopub_data_rate_limit`.\n",
      "\n",
      "Current values:\n",
      "ServerApp.iopub_data_rate_limit=1000000.0 (bytes/sec)\n",
      "ServerApp.rate_limit_window=3.0 (secs)\n",
      "\n"
     ]
    },
    {
     "ename": "TypeError",
     "evalue": "must be real number, not list",
     "output_type": "error",
     "traceback": [
      "\u001b[1;31m---------------------------------------------------------------------------\u001b[0m",
      "\u001b[1;31mTypeError\u001b[0m                                 Traceback (most recent call last)",
      "Cell \u001b[1;32mIn[12], line 39\u001b[0m\n\u001b[0;32m     36\u001b[0m audio_list \u001b[38;5;241m=\u001b[39m \u001b[38;5;28mlist\u001b[39m(np\u001b[38;5;241m.\u001b[39mfrombuffer(audio_bytes, dtype\u001b[38;5;241m=\u001b[39mnp\u001b[38;5;241m.\u001b[39mint16))\n\u001b[0;32m     37\u001b[0m \u001b[38;5;28mprint\u001b[39m(audio_list)\n\u001b[1;32m---> 39\u001b[0m recognizer \u001b[38;5;241m=\u001b[39m \u001b[43mKaldiRecognizer\u001b[49m\u001b[43m(\u001b[49m\u001b[43mmodel\u001b[49m\u001b[43m,\u001b[49m\u001b[43m \u001b[49m\u001b[43maudio_list\u001b[49m\u001b[43m)\u001b[49m\n\u001b[0;32m     40\u001b[0m recognizer\u001b[38;5;241m.\u001b[39mSetWords(\u001b[38;5;28;01mTrue\u001b[39;00m)\n\u001b[0;32m     42\u001b[0m \u001b[38;5;66;03m# Recognize speech\u001b[39;00m\n",
      "File \u001b[1;32m~\\anaconda3\\envs\\newdev\\lib\\site-packages\\vosk\\__init__.py:147\u001b[0m, in \u001b[0;36mKaldiRecognizer.__init__\u001b[1;34m(self, *args)\u001b[0m\n\u001b[0;32m    145\u001b[0m \u001b[38;5;28;01mdef\u001b[39;00m \u001b[38;5;21m__init__\u001b[39m(\u001b[38;5;28mself\u001b[39m, \u001b[38;5;241m*\u001b[39margs):\n\u001b[0;32m    146\u001b[0m     \u001b[38;5;28;01mif\u001b[39;00m \u001b[38;5;28mlen\u001b[39m(args) \u001b[38;5;241m==\u001b[39m \u001b[38;5;241m2\u001b[39m:\n\u001b[1;32m--> 147\u001b[0m         \u001b[38;5;28mself\u001b[39m\u001b[38;5;241m.\u001b[39m_handle \u001b[38;5;241m=\u001b[39m \u001b[43m_c\u001b[49m\u001b[38;5;241;43m.\u001b[39;49m\u001b[43mvosk_recognizer_new\u001b[49m\u001b[43m(\u001b[49m\u001b[43margs\u001b[49m\u001b[43m[\u001b[49m\u001b[38;5;241;43m0\u001b[39;49m\u001b[43m]\u001b[49m\u001b[38;5;241;43m.\u001b[39;49m\u001b[43m_handle\u001b[49m\u001b[43m,\u001b[49m\u001b[43m \u001b[49m\u001b[43margs\u001b[49m\u001b[43m[\u001b[49m\u001b[38;5;241;43m1\u001b[39;49m\u001b[43m]\u001b[49m\u001b[43m)\u001b[49m\n\u001b[0;32m    148\u001b[0m     \u001b[38;5;28;01melif\u001b[39;00m \u001b[38;5;28mlen\u001b[39m(args) \u001b[38;5;241m==\u001b[39m \u001b[38;5;241m3\u001b[39m \u001b[38;5;129;01mand\u001b[39;00m \u001b[38;5;28misinstance\u001b[39m(args[\u001b[38;5;241m2\u001b[39m], SpkModel):\n\u001b[0;32m    149\u001b[0m         \u001b[38;5;28mself\u001b[39m\u001b[38;5;241m.\u001b[39m_handle \u001b[38;5;241m=\u001b[39m _c\u001b[38;5;241m.\u001b[39mvosk_recognizer_new_spk(args[\u001b[38;5;241m0\u001b[39m]\u001b[38;5;241m.\u001b[39m_handle,\n\u001b[0;32m    150\u001b[0m                 args[\u001b[38;5;241m1\u001b[39m], args[\u001b[38;5;241m2\u001b[39m]\u001b[38;5;241m.\u001b[39m_handle)\n",
      "\u001b[1;31mTypeError\u001b[0m: must be real number, not list"
     ]
    }
   ],
   "source": [
    "import moviepy.editor as mp\n",
    "from pydub import AudioSegment\n",
    "from pydub.silence import split_on_silence\n",
    "from vosk import Model, KaldiRecognizer\n",
    "import subprocess\n",
    "from pathlib import Path\n",
    "import numpy as np\n",
    "\n",
    "# Set log level to suppress Vosk log messages\n",
    "SetLogLevel(0)\n",
    "\n",
    "# Step 1: Extract audio from video\n",
    "video = mp.VideoFileClip(\"um.mp4\")\n",
    "audio = video.audio\n",
    "\n",
    "\n",
    "# Step 2: Convert audio to WAV for speech recognition\n",
    "audio.write_audiofile(\"audio.wav\", codec=\"pcm_s16le\")\n",
    "\n",
    "# Step 3: Speech recognition using Vosk (you'll need to install the vosk library)\n",
    "model_path = \"../vosk-model-en-us-0.22\"\n",
    "try:\n",
    "    model = Model(model_path)\n",
    "    print(\"Model loaded successfully.\")\n",
    "except Exception as e:\n",
    "    print(f\"Error loading model: {e}\")\n",
    "    # Handle the error or exit the program\n",
    "\n",
    "\n",
    "if 'model' in locals():\n",
    "    # Read back the audio as a byte buffer\n",
    "    with open(\"audio.wav\", \"rb\") as f:\n",
    "        audio_bytes = f.read()\n",
    "\n",
    "    # Convert audio data to list of 16-bit signed integers\n",
    "    audio_list = list(np.frombuffer(audio_bytes, dtype=np.int16))\n",
    "    print(audio_list)\n",
    "\n",
    "    recognizer = KaldiRecognizer(model, audio_list)\n",
    "    recognizer.SetWords(True)\n",
    "    \n",
    "    # Recognize speech\n",
    "    recognized_text = \"\"\n",
    "    while True:\n",
    "        data = recognizer.ReadWaveChunk()\n",
    "        if not data:\n",
    "            break\n",
    "        recognized_text += recognizer.PartialResult()\n",
    "    # Rest of the code...\n",
    "else:\n",
    "    print(\"Model not available, cannot proceed.\")\n",
    "# Rest of the code...\n",
    "\n",
    "audio_data = AudioSegment.from_wav(\"audio.wav\")\n",
    "chunks = split_on_silence(audio_data, silence_thresh=-40)\n",
    "recognized_text = \"\"\n",
    "\n",
    "for chunk in chunks:\n",
    "     # Convert audio data to numpy array of 16-bit signed integers\n",
    "    audio_np = np.frombuffer(audio_bytes, dtype=np.int16)\n",
    "    recognizer = KaldiRecognizer(model, audio_np)\n",
    "    recognized_text += recognizer.FinalResult()\n",
    "\n",
    "# Step 4: Identify \"um\" occurrences and cut corresponding video segments\n",
    "um_segments = [(start, end) for start, end in zip(chunks[:-1], chunks[1:]) if \"um\" in recognized_text[start:end]]\n",
    "\n",
    "edited_segments = []\n",
    "for start, end in um_segments:\n",
    "    edited_segments.append(video.subclip(start, end))\n",
    "\n",
    "final_video = mp.concatenate_videoclips(edited_segments)\n",
    "\n",
    "# Step 5: Export final video\n",
    "final_video.write_videofile(\"umRemove.mp4\")\n"
   ]
  },
  {
   "cell_type": "code",
   "execution_count": null,
   "id": "d867d93a-7af5-4088-adbb-f6eb5bea7692",
   "metadata": {},
   "outputs": [],
   "source": []
  }
 ],
 "metadata": {
  "kernelspec": {
   "display_name": "Python 3 (ipykernel)",
   "language": "python",
   "name": "python3"
  },
  "language_info": {
   "codemirror_mode": {
    "name": "ipython",
    "version": 3
   },
   "file_extension": ".py",
   "mimetype": "text/x-python",
   "name": "python",
   "nbconvert_exporter": "python",
   "pygments_lexer": "ipython3",
   "version": "3.9.17"
  }
 },
 "nbformat": 4,
 "nbformat_minor": 5
}
