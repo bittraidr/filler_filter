{
 "cells": [
  {
   "cell_type": "code",
   "execution_count": 1,
   "id": "ad125b16-6e89-40de-98e8-671bd4a9c9e4",
   "metadata": {
    "tags": []
   },
   "outputs": [
    {
     "name": "stdout",
     "output_type": "stream",
     "text": [
      "MoviePy - Writing audio in audio.wav\n"
     ]
    },
    {
     "name": "stderr",
     "output_type": "stream",
     "text": [
      "                                                                                                                       \r"
     ]
    },
    {
     "name": "stdout",
     "output_type": "stream",
     "text": [
      "MoviePy - Done.\n"
     ]
    },
    {
     "ename": "TypeError",
     "evalue": "only length-1 arrays can be converted to Python scalars",
     "output_type": "error",
     "traceback": [
      "\u001b[1;31m---------------------------------------------------------------------------\u001b[0m",
      "\u001b[1;31mTypeError\u001b[0m                                 Traceback (most recent call last)",
      "Cell \u001b[1;32mIn[1], line 35\u001b[0m\n\u001b[0;32m     32\u001b[0m     \u001b[38;5;28;01mfor\u001b[39;00m chunk \u001b[38;5;129;01min\u001b[39;00m chunks:\n\u001b[0;32m     33\u001b[0m         \u001b[38;5;66;03m# Convert audio data to numpy array of 16-bit signed integers\u001b[39;00m\n\u001b[0;32m     34\u001b[0m         audio_np \u001b[38;5;241m=\u001b[39m np\u001b[38;5;241m.\u001b[39mfromstring(chunk\u001b[38;5;241m.\u001b[39mraw_data, dtype\u001b[38;5;241m=\u001b[39mnp\u001b[38;5;241m.\u001b[39mint16)\n\u001b[1;32m---> 35\u001b[0m         recognizer \u001b[38;5;241m=\u001b[39m \u001b[43mKaldiRecognizer\u001b[49m\u001b[43m(\u001b[49m\u001b[43mmodel\u001b[49m\u001b[43m,\u001b[49m\u001b[43m \u001b[49m\u001b[43maudio_np\u001b[49m\u001b[43m)\u001b[49m\n\u001b[0;32m     36\u001b[0m         recognized_text \u001b[38;5;241m+\u001b[39m\u001b[38;5;241m=\u001b[39m recognizer\u001b[38;5;241m.\u001b[39mFinalResult()\n\u001b[0;32m     38\u001b[0m     \u001b[38;5;66;03m# Rest of the code...\u001b[39;00m\n\u001b[0;32m     39\u001b[0m \u001b[38;5;28;01melse\u001b[39;00m:\n",
      "File \u001b[1;32m~\\anaconda3\\envs\\newdev\\lib\\site-packages\\vosk\\__init__.py:147\u001b[0m, in \u001b[0;36mKaldiRecognizer.__init__\u001b[1;34m(self, *args)\u001b[0m\n\u001b[0;32m    145\u001b[0m \u001b[38;5;28;01mdef\u001b[39;00m \u001b[38;5;21m__init__\u001b[39m(\u001b[38;5;28mself\u001b[39m, \u001b[38;5;241m*\u001b[39margs):\n\u001b[0;32m    146\u001b[0m     \u001b[38;5;28;01mif\u001b[39;00m \u001b[38;5;28mlen\u001b[39m(args) \u001b[38;5;241m==\u001b[39m \u001b[38;5;241m2\u001b[39m:\n\u001b[1;32m--> 147\u001b[0m         \u001b[38;5;28mself\u001b[39m\u001b[38;5;241m.\u001b[39m_handle \u001b[38;5;241m=\u001b[39m \u001b[43m_c\u001b[49m\u001b[38;5;241;43m.\u001b[39;49m\u001b[43mvosk_recognizer_new\u001b[49m\u001b[43m(\u001b[49m\u001b[43margs\u001b[49m\u001b[43m[\u001b[49m\u001b[38;5;241;43m0\u001b[39;49m\u001b[43m]\u001b[49m\u001b[38;5;241;43m.\u001b[39;49m\u001b[43m_handle\u001b[49m\u001b[43m,\u001b[49m\u001b[43m \u001b[49m\u001b[43margs\u001b[49m\u001b[43m[\u001b[49m\u001b[38;5;241;43m1\u001b[39;49m\u001b[43m]\u001b[49m\u001b[43m)\u001b[49m\n\u001b[0;32m    148\u001b[0m     \u001b[38;5;28;01melif\u001b[39;00m \u001b[38;5;28mlen\u001b[39m(args) \u001b[38;5;241m==\u001b[39m \u001b[38;5;241m3\u001b[39m \u001b[38;5;129;01mand\u001b[39;00m \u001b[38;5;28misinstance\u001b[39m(args[\u001b[38;5;241m2\u001b[39m], SpkModel):\n\u001b[0;32m    149\u001b[0m         \u001b[38;5;28mself\u001b[39m\u001b[38;5;241m.\u001b[39m_handle \u001b[38;5;241m=\u001b[39m _c\u001b[38;5;241m.\u001b[39mvosk_recognizer_new_spk(args[\u001b[38;5;241m0\u001b[39m]\u001b[38;5;241m.\u001b[39m_handle,\n\u001b[0;32m    150\u001b[0m                 args[\u001b[38;5;241m1\u001b[39m], args[\u001b[38;5;241m2\u001b[39m]\u001b[38;5;241m.\u001b[39m_handle)\n",
      "\u001b[1;31mTypeError\u001b[0m: only length-1 arrays can be converted to Python scalars"
     ]
    }
   ],
   "source": [
    "import moviepy.editor as mp\n",
    "from pydub import AudioSegment\n",
    "from pydub.silence import split_on_silence\n",
    "from vosk import Model, KaldiRecognizer\n",
    "import subprocess\n",
    "from pathlib import Path\n",
    "import numpy as np\n",
    "\n",
    "# Step 1: Extract audio from video\n",
    "video = mp.VideoFileClip(\"um.mp4\")\n",
    "audio = video.audio\n",
    "\n",
    "\n",
    "# Step 2: Convert audio to WAV for speech recognition\n",
    "audio.write_audiofile(\"audio.wav\", codec=\"pcm_s16le\")\n",
    "\n",
    "# Step 3: Speech recognition using Vosk (you'll need to install the vosk library)\n",
    "model_path = \"../vosk-model-en-us-0.22\"\n",
    "try:\n",
    "    model = Model(model_path)\n",
    "except Exception as e:\n",
    "    print(f\"Error: {e}\")\n",
    "    # Add additional information or actions as needed\n",
    "\n",
    "if 'model' in locals():\n",
    "    # Continue with the rest of the code only if 'model' is defined\n",
    "\n",
    "    audio_data = AudioSegment.from_wav(\"audio.wav\")\n",
    "    chunks = split_on_silence(audio_data, silence_thresh=-40)\n",
    "    recognized_text = \"\"\n",
    "\n",
    "    for chunk in chunks:\n",
    "        # Convert audio data to numpy array of 16-bit signed integers\n",
    "        audio_np = np.fromstring(chunk.raw_data, dtype=np.int16)\n",
    "        recognizer = KaldiRecognizer(model, audio_np)\n",
    "        recognized_text += recognizer.FinalResult()\n",
    "\n",
    "    # Rest of the code...\n",
    "else:\n",
    "    print(\"Model not available, cannot proceed.\")\n",
    "\n",
    "\n",
    "# Step 4: Identify \"um\" occurrences and cut corresponding video segments\n",
    "um_segments = [(start, end) for start, end in zip(chunks[:-1], chunks[1:]) if \"um\" in recognized_text[start:end]]\n",
    "\n",
    "edited_segments = []\n",
    "for start, end in um_segments:\n",
    "    edited_segments.append(video.subclip(start, end))\n",
    "\n",
    "final_video = mp.concatenate_videoclips(edited_segments)\n",
    "\n",
    "# Step 5: Export final video\n",
    "final_video.write_videofile(\"umRemove.mp4\")\n"
   ]
  },
  {
   "cell_type": "code",
   "execution_count": null,
   "id": "d867d93a-7af5-4088-adbb-f6eb5bea7692",
   "metadata": {},
   "outputs": [],
   "source": []
  }
 ],
 "metadata": {
  "kernelspec": {
   "display_name": "Python 3 (ipykernel)",
   "language": "python",
   "name": "python3"
  },
  "language_info": {
   "codemirror_mode": {
    "name": "ipython",
    "version": 3
   },
   "file_extension": ".py",
   "mimetype": "text/x-python",
   "name": "python",
   "nbconvert_exporter": "python",
   "pygments_lexer": "ipython3",
   "version": "3.9.17"
  }
 },
 "nbformat": 4,
 "nbformat_minor": 5
}
