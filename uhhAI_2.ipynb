{
 "cells": [
  {
   "cell_type": "code",
   "execution_count": null,
   "id": "505d25a1-6d14-478d-bd83-f2b5cff33414",
   "metadata": {
    "tags": []
   },
   "outputs": [],
   "source": [
    "from transformers import AutoModelForSpeechSeq2Seq, AutoProcessor\n",
    "from moviepy.editor import VideoFileClip\n",
    "import torchaudio\n",
    "import torchaudio.transforms as T\n",
    "import torch\n",
    "import numpy as np\n",
    "from pydub import AudioSegment\n",
    "\n",
    "# Step 1: Load pre-trained processor and model\n",
    "processor = AutoProcessor.from_pretrained(\"whisper-small\")\n",
    "model = AutoModelForSpeechSeq2Seq.from_pretrained(\"whisper-small\")\n",
    "\n",
    "# Step 2: Load video and extract audio\n",
    "video_path = \"test2.mp4\"\n",
    "video = VideoFileClip(video_path)\n",
    "audio = video.audio\n",
    "\n",
    "# Resample audio to the model's expected sampling rate (16000 Hz)\n",
    "target_sampling_rate = 16000\n",
    "resampler = T.Resample(audio.fps, target_sampling_rate)\n",
    "\n",
    "# Convert audio to NumPy array using pydub\n",
    "sound_array_np = np.array(AudioSegment.from_file(video_path).set_channels(1).set_frame_rate(target_sampling_rate).get_array_of_samples(), dtype=np.float32)\n",
    "\n",
    "# Apply resampling to the audio\n",
    "resampled_audio = resampler(torch.tensor(sound_array_np))\n",
    "\n",
    "# Step 3: Convert resampled audio to text using the Whisper model\n",
    "inputs = processor(resampled_audio.numpy(), sampling_rate=target_sampling_rate)\n",
    "outputs = model(**inputs)\n",
    "\n",
    "# Step 4: Get the transcription\n",
    "transcription = processor.batch_decode(outputs.logits, skip_special_tokens=True)\n",
    "\n",
    "# Step 5: Print or use the transcription as needed\n",
    "print(\"Transcription:\", transcription)\n"
   ]
  },
  {
   "cell_type": "code",
   "execution_count": 5,
   "id": "bafe9619-02fc-45c6-92f9-e0e179c26e4a",
   "metadata": {
    "tags": []
   },
   "outputs": [
    {
     "ename": "AttributeError",
     "evalue": "'AudioFileClip' object has no attribute 'set_frame_rate'",
     "output_type": "error",
     "traceback": [
      "\u001b[1;31m---------------------------------------------------------------------------\u001b[0m",
      "\u001b[1;31mAttributeError\u001b[0m                            Traceback (most recent call last)",
      "Cell \u001b[1;32mIn[5], line 20\u001b[0m\n\u001b[0;32m     18\u001b[0m \u001b[38;5;66;03m# Resample audio to the model's expected sampling rate (16000 Hz)\u001b[39;00m\n\u001b[0;32m     19\u001b[0m target_sampling_rate \u001b[38;5;241m=\u001b[39m \u001b[38;5;241m16000\u001b[39m\n\u001b[1;32m---> 20\u001b[0m resampled_audio \u001b[38;5;241m=\u001b[39m \u001b[43maudio\u001b[49m\u001b[38;5;241;43m.\u001b[39;49m\u001b[43mset_frame_rate\u001b[49m(target_sampling_rate)\n\u001b[0;32m     22\u001b[0m \u001b[38;5;66;03m# Step 3: Convert resampled audio to text using the Whisper model\u001b[39;00m\n\u001b[0;32m     23\u001b[0m inputs \u001b[38;5;241m=\u001b[39m processor(resampled_audio\u001b[38;5;241m.\u001b[39mnumpy(), sampling_rate\u001b[38;5;241m=\u001b[39mtarget_sampling_rate)\n",
      "\u001b[1;31mAttributeError\u001b[0m: 'AudioFileClip' object has no attribute 'set_frame_rate'"
     ]
    }
   ],
   "source": [
    "from transformers import AutoModelForSpeechSeq2Seq, AutoProcessor\n",
    "from moviepy.editor import VideoFileClip\n",
    "import torchaudio\n",
    "import torchaudio.transforms as T\n",
    "import torch\n",
    "import numpy as np\n",
    "from pydub import AudioSegment\n",
    "\n",
    "# Step 1: Load pre-trained processor and model\n",
    "processor = AutoProcessor.from_pretrained(\"whisper-small\")\n",
    "model = AutoModelForSpeechSeq2Seq.from_pretrained(\"whisper-small\")\n",
    "\n",
    "# Step 2: Load video and extract audio\n",
    "video_path = \"test2.mp4\"\n",
    "video = VideoFileClip(video_path)\n",
    "audio = video.audio\n",
    "\n",
    "# Resample audio to the model's expected sampling rate (16000 Hz)\n",
    "target_sampling_rate = 16000\n",
    "resampled_audio = audio.set_frame_rate(target_sampling_rate)\n",
    "\n",
    "# Step 3: Convert resampled audio to text using the Whisper model\n",
    "inputs = processor(resampled_audio.numpy(), sampling_rate=target_sampling_rate)\n",
    "outputs = model(**inputs)\n",
    "\n",
    "# Step 4: Get the transcription\n",
    "transcription = processor.batch_decode(outputs.logits, skip_special_tokens=True)\n",
    "\n",
    "# Step 5: Print or use the transcription as needed\n",
    "print(\"Transcription:\", transcription)"
   ]
  },
  {
   "cell_type": "code",
   "execution_count": null,
   "id": "97d9bf9c-e674-46d1-9c42-722caeb08e60",
   "metadata": {},
   "outputs": [],
   "source": []
  }
 ],
 "metadata": {
  "kernelspec": {
   "display_name": "Python 3 (ipykernel)",
   "language": "python",
   "name": "python3"
  },
  "language_info": {
   "codemirror_mode": {
    "name": "ipython",
    "version": 3
   },
   "file_extension": ".py",
   "mimetype": "text/x-python",
   "name": "python",
   "nbconvert_exporter": "python",
   "pygments_lexer": "ipython3",
   "version": "3.9.17"
  }
 },
 "nbformat": 4,
 "nbformat_minor": 5
}
